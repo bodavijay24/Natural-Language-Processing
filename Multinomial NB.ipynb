{
 "cells": [
  {
   "cell_type": "code",
   "execution_count": 1,
   "metadata": {},
   "outputs": [],
   "source": [
    "import wikipedia\n",
    "import spacy"
   ]
  },
  {
   "cell_type": "code",
   "execution_count": null,
   "metadata": {},
   "outputs": [],
   "source": []
  },
  {
   "cell_type": "code",
   "execution_count": 8,
   "metadata": {},
   "outputs": [],
   "source": [
    "from sklearn.pipeline import Pipeline\n",
    "from sklearn.model_selection import GridSearchCV\n",
    "from sklearn.feature_extraction.text import TfidfVectorizer\n",
    "from sklearn.naive_bayes import MultinomialNB"
   ]
  },
  {
   "cell_type": "code",
   "execution_count": 2,
   "metadata": {
    "scrolled": true
   },
   "outputs": [],
   "source": [
    "nlp=spacy.load(\"en_core_web_sm\")"
   ]
  },
  {
   "cell_type": "code",
   "execution_count": null,
   "metadata": {},
   "outputs": [],
   "source": []
  },
  {
   "cell_type": "code",
   "execution_count": 3,
   "metadata": {},
   "outputs": [],
   "source": [
    "def pages_to_sentences(*pages):\n",
    "    sentences=[]\n",
    "    \n",
    "    for page in pages:\n",
    "        p=wikipedia.page(page)\n",
    "        doc=nlp(p.content)\n",
    "        sentences+= [sent .text for sent in doc.sents]\n",
    "    \n",
    "    return sentences"
   ]
  },
  {
   "cell_type": "code",
   "execution_count": null,
   "metadata": {},
   "outputs": [],
   "source": []
  },
  {
   "cell_type": "code",
   "execution_count": 48,
   "metadata": {},
   "outputs": [],
   "source": [
    "def get_corpus(words):\n",
    "    corpus=[]\n",
    "    labels=[]\n",
    "    \n",
    "    for k,v in words.items():\n",
    "        docs=pages_to_sentences(*v)\n",
    "        corpus+=docs\n",
    "        labels+= [k]*len(docs)\n",
    "        \n",
    "    return corpus,labels\n",
    "\n",
    "\n",
    "words={\"animal\":[\"Reticulated python\",\"Ball python\"],\n",
    "       \"language\":[\"Python(programming language)\"]}\n",
    "\n"
   ]
  },
  {
   "cell_type": "code",
   "execution_count": 49,
   "metadata": {},
   "outputs": [],
   "source": [
    "corpus,labels = get_corpus(words)"
   ]
  },
  {
   "cell_type": "code",
   "execution_count": 50,
   "metadata": {},
   "outputs": [],
   "source": [
    "from sklearn.model_selection import train_test_split\n",
    "\n",
    "X_train,X_test,y_train,y_test=train_test_split(corpus,labels,test_size=0.2,random_state=0)"
   ]
  },
  {
   "cell_type": "code",
   "execution_count": 51,
   "metadata": {},
   "outputs": [
    {
     "name": "stdout",
     "output_type": "stream",
     "text": [
      "Test Score 0.8588235294117647\n",
      "Train Score 0.9113737075332349\n"
     ]
    }
   ],
   "source": [
    "model=Pipeline([(\"tfidf\",TfidfVectorizer()),(\"models\",MultinomialNB())])\n",
    "model.fit(X_train,y_train)\n",
    "print(\"Test Score {}\".format(model.score(X_test,y_test)))\n",
    "print(\"Train Score {}\".format(model.score(X_train,y_train)))"
   ]
  },
  {
   "cell_type": "markdown",
   "metadata": {},
   "source": [
    "# we will try to improve its accuray"
   ]
  },
  {
   "cell_type": "code",
   "execution_count": 52,
   "metadata": {},
   "outputs": [],
   "source": [
    "def lemmatizer(text):\n",
    "    return [word.lemma_ for word in nlp(text)]"
   ]
  },
  {
   "cell_type": "code",
   "execution_count": 53,
   "metadata": {},
   "outputs": [
    {
     "name": "stdout",
     "output_type": "stream",
     "text": [
      "Fitting 5 folds for each of 4 candidates, totalling 20 fits\n"
     ]
    },
    {
     "name": "stderr",
     "output_type": "stream",
     "text": [
      "[Parallel(n_jobs=1)]: Using backend SequentialBackend with 1 concurrent workers.\n",
      "[Parallel(n_jobs=1)]: Done  20 out of  20 | elapsed:  1.2min finished\n"
     ]
    },
    {
     "data": {
      "text/plain": [
       "GridSearchCV(cv=5, error_score=nan,\n",
       "             estimator=Pipeline(memory=None,\n",
       "                                steps=[('tfidf',\n",
       "                                        TfidfVectorizer(analyzer='word',\n",
       "                                                        binary=False,\n",
       "                                                        decode_error='strict',\n",
       "                                                        dtype=<class 'numpy.float64'>,\n",
       "                                                        encoding='utf-8',\n",
       "                                                        input='content',\n",
       "                                                        lowercase=True,\n",
       "                                                        max_df=1.0,\n",
       "                                                        max_features=None,\n",
       "                                                        min_df=1,\n",
       "                                                        ngram_range=(1, 1),\n",
       "                                                        norm='l2',\n",
       "                                                        preprocessor=None,\n",
       "                                                        smooth_idf=True,\n",
       "                                                        stop_words=None,\n",
       "                                                        strip_acc...\n",
       "                                                        tokenizer=None,\n",
       "                                                        use_idf=True,\n",
       "                                                        vocabulary=None)),\n",
       "                                       ('models',\n",
       "                                        MultinomialNB(alpha=1.0,\n",
       "                                                      class_prior=None,\n",
       "                                                      fit_prior=True))],\n",
       "                                verbose=False),\n",
       "             iid='deprecated', n_jobs=None,\n",
       "             param_grid={'tfidf__ngram_range': [(1, 1), (1, 2)],\n",
       "                         'tfidf__tokenizer': [None,\n",
       "                                              <function lemmatizer at 0x7ff5b895d2f0>]},\n",
       "             pre_dispatch='2*n_jobs', refit=True, return_train_score=False,\n",
       "             scoring=None, verbose=1)"
      ]
     },
     "execution_count": 53,
     "metadata": {},
     "output_type": "execute_result"
    }
   ],
   "source": [
    "param_grid={\"tfidf__ngram_range\":[(1,1),(1,2)],\n",
    "            \"tfidf__tokenizer\":[None,lemmatizer]}\n",
    "\n",
    "\n",
    "grid_search=GridSearchCV(model,param_grid,cv=5,verbose=1)\n",
    "grid_search.fit(X_train,y_train)"
   ]
  },
  {
   "cell_type": "code",
   "execution_count": 54,
   "metadata": {},
   "outputs": [],
   "source": [
    "results=grid_search.cv_results_"
   ]
  },
  {
   "cell_type": "code",
   "execution_count": 57,
   "metadata": {
    "scrolled": true
   },
   "outputs": [
    {
     "data": {
      "text/plain": [
       "{'mean_fit_time': array([0.02561412, 5.61152096, 0.03188124, 6.22846379]),\n",
       " 'std_fit_time': array([0.01345282, 0.13174402, 0.00289801, 0.14376555]),\n",
       " 'mean_score_time': array([0.00449085, 1.38559422, 0.00484543, 1.56853156]),\n",
       " 'std_score_time': array([0.00241236, 0.05471752, 0.000391  , 0.08600233]),\n",
       " 'param_tfidf__ngram_range': masked_array(data=[(1, 1), (1, 1), (1, 2), (1, 2)],\n",
       "              mask=[False, False, False, False],\n",
       "        fill_value='?',\n",
       "             dtype=object),\n",
       " 'param_tfidf__tokenizer': masked_array(data=[None, <function lemmatizer at 0x7ff5b895d2f0>, None,\n",
       "                    <function lemmatizer at 0x7ff5b895d2f0>],\n",
       "              mask=[False, False, False, False],\n",
       "        fill_value='?',\n",
       "             dtype=object),\n",
       " 'params': [{'tfidf__ngram_range': (1, 1), 'tfidf__tokenizer': None},\n",
       "  {'tfidf__ngram_range': (1, 1),\n",
       "   'tfidf__tokenizer': <function __main__.lemmatizer(text)>},\n",
       "  {'tfidf__ngram_range': (1, 2), 'tfidf__tokenizer': None},\n",
       "  {'tfidf__ngram_range': (1, 2),\n",
       "   'tfidf__tokenizer': <function __main__.lemmatizer(text)>}],\n",
       " 'split0_test_score': array([0.77205882, 0.75735294, 0.75735294, 0.73529412]),\n",
       " 'split1_test_score': array([0.83823529, 0.83088235, 0.82352941, 0.77941176]),\n",
       " 'split2_test_score': array([0.82222222, 0.81481481, 0.8       , 0.76296296]),\n",
       " 'split3_test_score': array([0.80740741, 0.79259259, 0.78518519, 0.76296296]),\n",
       " 'split4_test_score': array([0.84444444, 0.82962963, 0.8       , 0.78518519]),\n",
       " 'mean_test_score': array([0.81687364, 0.80505447, 0.79321351, 0.7651634 ]),\n",
       " 'std_test_score': array([0.02585751, 0.02755727, 0.02173293, 0.01735365]),\n",
       " 'rank_test_score': array([1, 2, 3, 4], dtype=int32)}"
      ]
     },
     "execution_count": 57,
     "metadata": {},
     "output_type": "execute_result"
    }
   ],
   "source": [
    "results"
   ]
  },
  {
   "cell_type": "code",
   "execution_count": 59,
   "metadata": {},
   "outputs": [],
   "source": [
    "import matplotlib.pyplot as plt\n",
    "%matplotlib inline"
   ]
  },
  {
   "cell_type": "code",
   "execution_count": 62,
   "metadata": {
    "scrolled": false
   },
   "outputs": [
    {
     "data": {
      "text/plain": [
       "[<matplotlib.lines.Line2D at 0x7ff5b64e9f60>]"
      ]
     },
     "execution_count": 62,
     "metadata": {},
     "output_type": "execute_result"
    },
    {
     "data": {
      "image/png": "[encoded data removed]",
      "text/plain": [
       "<Figure size 432x288 with 1 Axes>"
      ]
     },
     "metadata": {
      "needs_background": "light"
     },
     "output_type": "display_data"
    }
   ],
   "source": [
    "plt.plot(results[\"mean_fit_time\"])"
   ]
  },
  {
   "cell_type": "code",
   "execution_count": 56,
   "metadata": {},
   "outputs": [
    {
     "name": "stdout",
     "output_type": "stream",
     "text": [
      "{'tfidf__ngram_range': (1, 1), 'tfidf__tokenizer': None}\n",
      "0.8168736383442265\n"
     ]
    }
   ],
   "source": [
    "print(grid_search.best_params_)\n",
    "print(grid_search.best_score_)"
   ]
  },
  {
   "cell_type": "code",
   "execution_count": null,
   "metadata": {},
   "outputs": [],
   "source": []
  }
 ],
 "metadata": {
  "kernelspec": {
   "display_name": "Python 3",
   "language": "python",
   "name": "python3"
  },
  "language_info": {
   "codemirror_mode": {
    "name": "ipython",
    "version": 3
   },
   "file_extension": ".py",
   "mimetype": "text/x-python",
   "name": "python",
   "nbconvert_exporter": "python",
   "pygments_lexer": "ipython3",
   "version": "3.6.9"
  }
 },
 "nbformat": 4,
 "nbformat_minor": 2
}
